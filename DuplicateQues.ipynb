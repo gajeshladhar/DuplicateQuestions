{
  "nbformat": 4,
  "nbformat_minor": 0,
  "metadata": {
    "colab": {
      "name": "DuplicateQues.ipynb",
      "provenance": [],
      "collapsed_sections": []
    },
    "kernelspec": {
      "name": "python3",
      "display_name": "Python 3"
    },
    "accelerator": "GPU"
  },
  "cells": [
    {
      "cell_type": "code",
      "metadata": {
        "id": "kR7R1kQnNaoX",
        "colab_type": "code",
        "colab": {}
      },
      "source": [
        "import numpy as np\n",
        "import pandas as pd\n",
        "import tensorflow as tf\n",
        "import matplotlib.pyplot as plt\n",
        "from nltk.tokenize import TweetTokenizer\n",
        "from tensorflow.keras.layers import *\n",
        "from google.colab import output\n",
        "import pickle"
      ],
      "execution_count": 1,
      "outputs": []
    },
    {
      "cell_type": "code",
      "metadata": {
        "id": "_i_Lb-zn-BsY",
        "colab_type": "code",
        "colab": {}
      },
      "source": [
        "tf.keras.backend.set_floatx(\"float64\")"
      ],
      "execution_count": 2,
      "outputs": []
    },
    {
      "cell_type": "code",
      "metadata": {
        "id": "wlQmQ6QaOrWZ",
        "colab_type": "code",
        "colab": {}
      },
      "source": [
        "dataset=pd.read_csv('/content/drive/My Drive/Datasets/Quora/dataset.tsv',delimiter='\\t')"
      ],
      "execution_count": 3,
      "outputs": []
    },
    {
      "cell_type": "code",
      "metadata": {
        "id": "BrhiscOlO1O1",
        "colab_type": "code",
        "colab": {
          "base_uri": "https://localhost:8080/",
          "height": 204
        },
        "outputId": "a083682d-f4f7-4501-835b-d523ce7b6c63"
      },
      "source": [
        "dataset.head()"
      ],
      "execution_count": 4,
      "outputs": [
        {
          "output_type": "execute_result",
          "data": {
            "text/html": [
              "<div>\n",
              "<style scoped>\n",
              "    .dataframe tbody tr th:only-of-type {\n",
              "        vertical-align: middle;\n",
              "    }\n",
              "\n",
              "    .dataframe tbody tr th {\n",
              "        vertical-align: top;\n",
              "    }\n",
              "\n",
              "    .dataframe thead th {\n",
              "        text-align: right;\n",
              "    }\n",
              "</style>\n",
              "<table border=\"1\" class=\"dataframe\">\n",
              "  <thead>\n",
              "    <tr style=\"text-align: right;\">\n",
              "      <th></th>\n",
              "      <th>id</th>\n",
              "      <th>qid1</th>\n",
              "      <th>qid2</th>\n",
              "      <th>question1</th>\n",
              "      <th>question2</th>\n",
              "      <th>is_duplicate</th>\n",
              "    </tr>\n",
              "  </thead>\n",
              "  <tbody>\n",
              "    <tr>\n",
              "      <th>0</th>\n",
              "      <td>0</td>\n",
              "      <td>1</td>\n",
              "      <td>2</td>\n",
              "      <td>What is the step by step guide to invest in sh...</td>\n",
              "      <td>What is the step by step guide to invest in sh...</td>\n",
              "      <td>0</td>\n",
              "    </tr>\n",
              "    <tr>\n",
              "      <th>1</th>\n",
              "      <td>1</td>\n",
              "      <td>3</td>\n",
              "      <td>4</td>\n",
              "      <td>What is the story of Kohinoor (Koh-i-Noor) Dia...</td>\n",
              "      <td>What would happen if the Indian government sto...</td>\n",
              "      <td>0</td>\n",
              "    </tr>\n",
              "    <tr>\n",
              "      <th>2</th>\n",
              "      <td>2</td>\n",
              "      <td>5</td>\n",
              "      <td>6</td>\n",
              "      <td>How can I increase the speed of my internet co...</td>\n",
              "      <td>How can Internet speed be increased by hacking...</td>\n",
              "      <td>0</td>\n",
              "    </tr>\n",
              "    <tr>\n",
              "      <th>3</th>\n",
              "      <td>3</td>\n",
              "      <td>7</td>\n",
              "      <td>8</td>\n",
              "      <td>Why am I mentally very lonely? How can I solve...</td>\n",
              "      <td>Find the remainder when [math]23^{24}[/math] i...</td>\n",
              "      <td>0</td>\n",
              "    </tr>\n",
              "    <tr>\n",
              "      <th>4</th>\n",
              "      <td>4</td>\n",
              "      <td>9</td>\n",
              "      <td>10</td>\n",
              "      <td>Which one dissolve in water quikly sugar, salt...</td>\n",
              "      <td>Which fish would survive in salt water?</td>\n",
              "      <td>0</td>\n",
              "    </tr>\n",
              "  </tbody>\n",
              "</table>\n",
              "</div>"
            ],
            "text/plain": [
              "   id  qid1  ...                                          question2 is_duplicate\n",
              "0   0     1  ...  What is the step by step guide to invest in sh...            0\n",
              "1   1     3  ...  What would happen if the Indian government sto...            0\n",
              "2   2     5  ...  How can Internet speed be increased by hacking...            0\n",
              "3   3     7  ...  Find the remainder when [math]23^{24}[/math] i...            0\n",
              "4   4     9  ...            Which fish would survive in salt water?            0\n",
              "\n",
              "[5 rows x 6 columns]"
            ]
          },
          "metadata": {
            "tags": []
          },
          "execution_count": 4
        }
      ]
    },
    {
      "cell_type": "code",
      "metadata": {
        "id": "4OPnxOGSQ9Wq",
        "colab_type": "code",
        "colab": {}
      },
      "source": [
        "Questions1=dataset.iloc[:,3].values\n",
        "Questions2=dataset.iloc[:,4].values\n",
        "Duplicate=dataset.iloc[:,5].values"
      ],
      "execution_count": 5,
      "outputs": []
    },
    {
      "cell_type": "code",
      "metadata": {
        "id": "SD7w1iYITEj8",
        "colab_type": "code",
        "colab": {}
      },
      "source": [
        "Questions1=[str(q).lower() for q in Questions1]\n",
        "Questions2=[str(q).lower() for q in Questions2]"
      ],
      "execution_count": 6,
      "outputs": []
    },
    {
      "cell_type": "code",
      "metadata": {
        "id": "qWhMOkwXP7UG",
        "colab_type": "code",
        "colab": {}
      },
      "source": [
        "tokenizer=TweetTokenizer()"
      ],
      "execution_count": 7,
      "outputs": []
    },
    {
      "cell_type": "code",
      "metadata": {
        "id": "Rp8ewpMacF48",
        "colab_type": "code",
        "colab": {}
      },
      "source": [
        "with open('/content/drive/My Drive/Datasets/Quora/glove.6B.100d.txt') as f:\n",
        "  data=f.read()"
      ],
      "execution_count": 8,
      "outputs": []
    },
    {
      "cell_type": "code",
      "metadata": {
        "id": "Ezj-Kc5FcexY",
        "colab_type": "code",
        "colab": {}
      },
      "source": [
        "data=data.split('\\n')"
      ],
      "execution_count": 9,
      "outputs": []
    },
    {
      "cell_type": "code",
      "metadata": {
        "id": "7eM6SsK0Tms2",
        "colab_type": "code",
        "colab": {}
      },
      "source": [
        "Embeddings={}\n",
        "for d in data :\n",
        "  try :\n",
        "    w=d.split()[0]\n",
        "    embd=np.array(d.split()[1:],dtype=\"float\")\n",
        "    Embeddings[w]=embd\n",
        "  except:\n",
        "    pass\n",
        "Embeddings['<OOV>']=0.2*np.random.random((100))\n",
        "Embeddings['<PAD>']=0.8*np.random.random((100))"
      ],
      "execution_count": 10,
      "outputs": []
    },
    {
      "cell_type": "code",
      "metadata": {
        "id": "ba-mTRBEgFQU",
        "colab_type": "code",
        "colab": {}
      },
      "source": [
        "Questions1=[tokenizer.tokenize(q) for q in Questions1]\n",
        "Questions2=[tokenizer.tokenize(q) for q in Questions2]"
      ],
      "execution_count": 16,
      "outputs": []
    },
    {
      "cell_type": "code",
      "metadata": {
        "id": "JI_T3Mo-g1Oc",
        "colab_type": "code",
        "colab": {}
      },
      "source": [
        "MAX_LEN=20"
      ],
      "execution_count": 17,
      "outputs": []
    },
    {
      "cell_type": "code",
      "metadata": {
        "id": "RKfmKbriq6gt",
        "colab_type": "code",
        "colab": {}
      },
      "source": [
        "np.array(Questions1[0:10])"
      ],
      "execution_count": null,
      "outputs": []
    },
    {
      "cell_type": "code",
      "metadata": {
        "id": "0uiI1a6VlVUs",
        "colab_type": "code",
        "colab": {}
      },
      "source": [
        "#Padding\n",
        "for i in range(len(Questions1)):\n",
        "  if len(Questions1[i])>=20:\n",
        "    Questions1[i]=Questions1[i][:20]\n",
        "  else :\n",
        "    Questions1[i]+=['<PAD>']*(20-len(Questions1[i]))"
      ],
      "execution_count": 19,
      "outputs": []
    },
    {
      "cell_type": "code",
      "metadata": {
        "id": "KHlG-tptl_Zj",
        "colab_type": "code",
        "colab": {}
      },
      "source": [
        "for i in range(len(Questions2)):\n",
        "  if len(Questions2[i])>=20:\n",
        "    Questions2[i]=Questions2[i][:20]\n",
        "  else :\n",
        "    Questions2[i]+=['<PAD>']*(20-len(Questions2[i]))"
      ],
      "execution_count": 20,
      "outputs": []
    },
    {
      "cell_type": "code",
      "metadata": {
        "id": "QboJ3PKFnck-",
        "colab_type": "code",
        "colab": {}
      },
      "source": [
        "# Selecting only Duplicate Questions...\n",
        "rem=[]\n",
        "for i in range(len(Duplicate)):\n",
        "  if Duplicate[i]==0:\n",
        "    rem+=[i]"
      ],
      "execution_count": 21,
      "outputs": []
    },
    {
      "cell_type": "code",
      "metadata": {
        "id": "tDTrgnV7phc4",
        "colab_type": "code",
        "colab": {}
      },
      "source": [
        "for rem in sorted(rem, reverse=True):\n",
        "    del Questions1[rem]\n",
        "    del Questions2[rem]"
      ],
      "execution_count": 22,
      "outputs": []
    },
    {
      "cell_type": "code",
      "metadata": {
        "id": "sbq3kA4KofIU",
        "colab_type": "code",
        "colab": {
          "base_uri": "https://localhost:8080/",
          "height": 119
        },
        "outputId": "68148059-065d-46e2-da25-af8fb346f7c7"
      },
      "source": [
        "np.array(Questions1[0:2])"
      ],
      "execution_count": 18,
      "outputs": [
        {
          "output_type": "execute_result",
          "data": {
            "text/plain": [
              "array([['astrology', ':', 'i', 'am', 'a', 'capricorn', 'sun', 'cap',\n",
              "        'moon', 'and', 'cap', 'rising', '...', 'what', 'does', 'that',\n",
              "        'say', 'about', 'me', '?'],\n",
              "       ['how', 'can', 'i', 'be', 'a', 'good', 'geologist', '?', '<PAD>',\n",
              "        '<PAD>', '<PAD>', '<PAD>', '<PAD>', '<PAD>', '<PAD>', '<PAD>',\n",
              "        '<PAD>', '<PAD>', '<PAD>', '<PAD>']], dtype='<U9')"
            ]
          },
          "metadata": {
            "tags": []
          },
          "execution_count": 18
        }
      ]
    },
    {
      "cell_type": "code",
      "metadata": {
        "id": "UqdQoZQ1r488",
        "colab_type": "code",
        "colab": {
          "base_uri": "https://localhost:8080/",
          "height": 119
        },
        "outputId": "23bbbe40-3ea1-482d-ac65-4d85e4281178"
      },
      "source": [
        "np.array(Questions2[0:2])"
      ],
      "execution_count": 19,
      "outputs": [
        {
          "output_type": "execute_result",
          "data": {
            "text/plain": [
              "array([[\"i'm\", 'a', 'triple', 'capricorn', '(', 'sun', ',', 'moon',\n",
              "        'and', 'ascendant', 'in', 'capricorn', ')', 'what', 'does',\n",
              "        'this', 'say', 'about', 'me', '?'],\n",
              "       ['what', 'should', 'i', 'do', 'to', 'be', 'a', 'great',\n",
              "        'geologist', '?', '<PAD>', '<PAD>', '<PAD>', '<PAD>', '<PAD>',\n",
              "        '<PAD>', '<PAD>', '<PAD>', '<PAD>', '<PAD>']], dtype='<U9')"
            ]
          },
          "metadata": {
            "tags": []
          },
          "execution_count": 19
        }
      ]
    },
    {
      "cell_type": "code",
      "metadata": {
        "id": "8Kvu2k5SsFEC",
        "colab_type": "code",
        "colab": {}
      },
      "source": [
        "def train_datagen(batch_size=32):\n",
        "\n",
        "  global Questions1\n",
        "  global Questions2\n",
        "  Q1=np.zeros((batch_size,20,100))\n",
        "  Q2=np.zeros((batch_size,20,100))\n",
        "  curr=0\n",
        "  while(True):\n",
        "    if curr+batch_size>=len(Questions1):\n",
        "      curr=0\n",
        "      indices=range(len(Questions1))\n",
        "      indices=np.random.permutation(indices)\n",
        "      Questions1=Questions1[indices]\n",
        "      Questions2=Questions2[indices]\n",
        "\n",
        "    for i in range(curr,curr+32):\n",
        "      for j in range(20):\n",
        "        try :\n",
        "          Q1[curr-i,j]=Embeddings[Questions1[i][j]]\n",
        "        except :\n",
        "          Q1[curr-i,j]=Embeddings['<OOV>']\n",
        "\n",
        "    for i in range(curr,curr+32):\n",
        "      for j in range(20):\n",
        "        try :\n",
        "          Q2[curr-i,j]=Embeddings[Questions2[i][j]]\n",
        "        except :\n",
        "          Q2[curr-i,j]=Embeddings['<OOV>']\n",
        "    curr+=batch_size\n",
        "    yield Q1,Q2"
      ],
      "execution_count": 23,
      "outputs": []
    },
    {
      "cell_type": "markdown",
      "metadata": {
        "id": "R2KZdvkbvpmd",
        "colab_type": "text"
      },
      "source": [
        "<br><hr><br>**Model Architecture**"
      ]
    },
    {
      "cell_type": "code",
      "metadata": {
        "id": "wAKCeGhEvJHR",
        "colab_type": "code",
        "colab": {}
      },
      "source": [
        "# Layers...\n",
        "lstm1=Bidirectional(LSTM(200,return_sequences=True))\n",
        "conv1=Conv1D(400,5)\n",
        "norm_conv1=BatchNormalization()\n",
        "act_conv1=Activation(\"sigmoid\")\n",
        "lstm2=Bidirectional(LSTM(200,return_sequences=False))\n",
        "\n",
        "dense1=Dense(300)\n",
        "norm1=BatchNormalization()\n",
        "act1=Activation(\"sigmoid\")\n",
        "\n",
        "dense2=Dense(100)\n",
        "norm2=BatchNormalization()\n",
        "act2=Activation(\"sigmoid\")\n",
        "\n",
        "dense3=Dense(80)\n",
        "norm3=BatchNormalization()\n",
        "act3=Activation(\"sigmoid\")"
      ],
      "execution_count": 24,
      "outputs": []
    },
    {
      "cell_type": "code",
      "metadata": {
        "id": "ce5zEc6IBTm-",
        "colab_type": "code",
        "colab": {}
      },
      "source": [
        "def norm_set(val=True):\n",
        "  norm_conv1.training=val\n",
        "  norm1.training=val\n",
        "  norm2.training=val\n",
        "  norm3.training=val"
      ],
      "execution_count": 25,
      "outputs": []
    },
    {
      "cell_type": "code",
      "metadata": {
        "id": "QNXfpVli0PDr",
        "colab_type": "code",
        "colab": {}
      },
      "source": [
        "def forward_pass(Q1,Q2):\n",
        "  t1=lstm1(Q1)\n",
        "  t1=conv1(t1)\n",
        "  t1=norm_conv1(t1)\n",
        "  t1=act_conv1(t1)\n",
        "  t1=lstm2(t1)\n",
        "  t1=dense1(t1)\n",
        "  t1=norm1(t1)\n",
        "  t1=act1(t1)\n",
        "  t1=dense2(t1)\n",
        "  t1=norm2(t1)\n",
        "  t1=act2(t1)\n",
        "  t1=dense3(t1)\n",
        "  t1=norm3(t1)\n",
        "  t1=tf.expand_dims(act3(t1),axis=-1)\n",
        " \n",
        "  t2=lstm1(Q2)\n",
        "  t2=conv1(t2)\n",
        "  t2=norm_conv1(t2)\n",
        "  t2=act_conv1(t2)\n",
        "  t2=lstm2(t2)\n",
        "  t2=dense1(t2)\n",
        "  t2=norm1(t2)\n",
        "  t2=act1(t2)\n",
        "  t2=dense2(t2)\n",
        "  t2=norm2(t2)\n",
        "  t2=act2(t2)\n",
        "  t2=dense3(t2)\n",
        "  t2=norm3(t2)\n",
        "  t2=tf.expand_dims(act3(t2),axis=-1)\n",
        "  \n",
        "  # Triplet Loss...\n",
        "  V=tf.matmul(t1[:,:,0],tf.transpose(t2[:,:,0]))\n",
        "  V=V/tf.matmul(tf.expand_dims(tf.norm(t1[:,:,0],axis=-1),axis=-1),tf.expand_dims(tf.norm(tf.transpose(t2[:,:,0]),axis=0),axis=0))\n",
        " \n",
        "\n",
        "  Losses=[]\n",
        "  mean_=0\n",
        "  max_=0\n",
        "  for i in range(V.shape[0]):\n",
        "    for j in range(V.shape[1]):\n",
        "      if i==j :\n",
        "        continue\n",
        "      mean_+=V[i,j]\n",
        "      if max_<V[i,j]:\n",
        "        max_=V[i,j]\n",
        "    Losses+=[tf.math.maximum(0,mean_-V[i,i]+0.25)]\n",
        "    Losses+=[tf.math.maximum(0,max_-V[i,i]+0.25)]\n",
        "    mean_=0\n",
        "    max_=0\n",
        " \n",
        "  return tf.reduce_sum(Losses)/t1.shape[0]\n",
        "  "
      ],
      "execution_count": 26,
      "outputs": []
    },
    {
      "cell_type": "markdown",
      "metadata": {
        "id": "LPV_5zJ7mX2_",
        "colab_type": "text"
      },
      "source": [
        "<br><hr><br> **Save Model**"
      ]
    },
    {
      "cell_type": "code",
      "metadata": {
        "id": "Jo9HIxlSmcsx",
        "colab_type": "code",
        "colab": {}
      },
      "source": [
        "def save_model():\n",
        "  weights={}\n",
        "  weights['lstm1']=lstm1.get_weights()\n",
        "  weights['conv1']=conv1.get_weights()\n",
        "  weights['norm_conv1']=norm_conv1.get_weights()\n",
        "  weights['lstm2']=lstm2.get_weights()\n",
        "  weights['dense1']=dense1.get_weights()\n",
        "  weights['norm1']=norm1.get_weights()\n",
        "  weights['dense2']=dense2.get_weights()\n",
        "  weights['norm2']=norm2.get_weights()\n",
        "  weights['dense3']=dense3.get_weights()\n",
        "  weights['norm3']=norm3.get_weights()\n",
        "\n",
        "  with open('/content/drive/My Drive/Datasets/Quora/model.pkl','wb') as f:\n",
        "    pickle.dump(weights,f)\n"
      ],
      "execution_count": 28,
      "outputs": []
    },
    {
      "cell_type": "code",
      "metadata": {
        "id": "kEFFyhCiooJE",
        "colab_type": "code",
        "colab": {}
      },
      "source": [
        "def load_model():\n",
        "  with open('/content/drive/My Drive/Datasets/Quora/model.pkl','rb') as f:\n",
        "    weights=pickle.load(f)\n",
        "\n",
        "  lstm1.set_weights(weights['lstm1'])\n",
        "  try :\n",
        "    conv1.set_weights(weights['conv1'])\n",
        "    norm_conv1.set_weights(weights['norm_conv1'])\n",
        "  except :\n",
        "    pass\n",
        "  lstm2.set_weights(weights['lstm2'])\n",
        "  dense1.set_weights(weights['dense1'])\n",
        "  norm1.set_weights(weights['norm1'])\n",
        "  dense2.set_weights(weights['dense2'])\n",
        "  norm2.set_weights(weights['norm2'])\n",
        "  dense3.set_weights(weights['dense3'])\n",
        "  norm3.set_weights(weights['norm3'])"
      ],
      "execution_count": 29,
      "outputs": []
    },
    {
      "cell_type": "markdown",
      "metadata": {
        "id": "q2TeZhNq_Pdp",
        "colab_type": "text"
      },
      "source": [
        "<br><hr><br> **Building Backward Pass**"
      ]
    },
    {
      "cell_type": "code",
      "metadata": {
        "id": "fXBJ-dy70QCM",
        "colab_type": "code",
        "colab": {}
      },
      "source": [
        "load_model()"
      ],
      "execution_count": 33,
      "outputs": []
    },
    {
      "cell_type": "code",
      "metadata": {
        "id": "d7gdPSibP9ZG",
        "colab_type": "code",
        "colab": {}
      },
      "source": [
        "indices=range(len(Questions1))\n",
        "indices=np.random.permutation(indices)\n",
        "Questions1=[Questions1[i] for i in indices]\n",
        "Questions2=[Questions2[i] for i in indices]"
      ],
      "execution_count": 30,
      "outputs": []
    },
    {
      "cell_type": "code",
      "metadata": {
        "id": "JC-x6FOs_ix8",
        "colab_type": "code",
        "colab": {}
      },
      "source": [
        "epochs=10\n",
        "batch_size=256\n",
        "optimizer=tf.optimizers.Adam(1e-5)\n",
        "data_gen=train_datagen()"
      ],
      "execution_count": 31,
      "outputs": []
    },
    {
      "cell_type": "code",
      "metadata": {
        "id": "afM0eroR_Gy5",
        "colab_type": "code",
        "colab": {
          "base_uri": "https://localhost:8080/",
          "height": 296
        },
        "outputId": "e209f01d-d71f-4db9-b819-72bf26f9716a"
      },
      "source": [
        "#Backward Pass....\n",
        "losses=[]\n",
        "for epoch in range(epochs):\n",
        "  for batch in range(len(Questions1)//batch_size):\n",
        "    try:\n",
        "      Q1,Q2=next(data_gen)\n",
        "    except :\n",
        "      Q1,Q2=next(data_gen)\n",
        "    with tf.GradientTape() as tape:\n",
        "      loss=forward_pass(Q1,Q2)\n",
        "      vars=tape.watched_variables()\n",
        "      grads=tape.gradient(loss,vars)\n",
        "    optimizer.apply_gradients(zip(grads,vars))\n",
        "    #save_model()\n",
        "    output.clear(wait=True)\n",
        "    losses+=[loss.numpy()]\n",
        "    print(\"Epoch/Batch : \"+str(epoch+1)+\"/\"+str(batch+1)+\"     Loss : \"+str(loss.numpy()))\n",
        "    plt.plot(range(len(losses)),losses,color=\"blue\")\n",
        "    plt.xlabel(\"Batches\")\n",
        "    plt.ylabel(\" Training Loss \")\n",
        "    plt.show()\n"
      ],
      "execution_count": null,
      "outputs": [
        {
          "output_type": "stream",
          "text": [
            "Epoch/Batch : 2/208     Loss : 1.693944058543698\n"
          ],
          "name": "stdout"
        },
        {
          "output_type": "display_data",
          "data": {
            "image/png": "[encoded data removed]",
            "text/plain": [
              "<Figure size 432x288 with 1 Axes>"
            ]
          },
          "metadata": {
            "tags": [],
            "needs_background": "light"
          }
        }
      ]
    },
    {
      "cell_type": "code",
      "metadata": {
        "id": "R2898f352S8O",
        "colab_type": "code",
        "colab": {}
      },
      "source": [
        "vars"
      ],
      "execution_count": null,
      "outputs": []
    },
    {
      "cell_type": "code",
      "metadata": {
        "id": "RJcMt-vLqjdE",
        "colab_type": "code",
        "colab": {}
      },
      "source": [
        "save_model()"
      ],
      "execution_count": 94,
      "outputs": []
    },
    {
      "cell_type": "code",
      "metadata": {
        "id": "BdxdNF5z_sGN",
        "colab_type": "code",
        "colab": {}
      },
      "source": [
        "def predict(Q1,Q2):\n",
        "  norm_set(False)\n",
        "  Y=np.zeros((Q1.shape[0]))\n",
        "\n",
        "  t1=lstm1(Q1)\n",
        "  t1=conv1(t1)\n",
        "  t1=norm_conv1(t1)\n",
        "  t1=act_conv1(t1)\n",
        "  t1=lstm2(t1)\n",
        "  t1=dense1(t1)\n",
        "  t1=norm1(t1)\n",
        "  t1=act1(t1)\n",
        "  t1=dense2(t1)\n",
        "  t1=norm2(t1)\n",
        "  t1=act2(t1)\n",
        "  t1=dense3(t1)\n",
        "  t1=norm3(t1)\n",
        "  t1=tf.expand_dims(act3(t1),axis=-1)\n",
        " \n",
        "  t2=lstm1(Q2)\n",
        "  t2=conv1(t2)\n",
        "  t2=norm_conv1(t2)\n",
        "  t2=act_conv1(t2)\n",
        "  t2=lstm2(t2)\n",
        "  t2=dense1(t2)\n",
        "  t2=norm1(t2)\n",
        "  t2=act1(t2)\n",
        "  t2=dense2(t2)\n",
        "  t2=norm2(t2)\n",
        "  t2=act2(t2)\n",
        "  t2=dense3(t2)\n",
        "  t2=norm3(t2)\n",
        "  t2=tf.expand_dims(act3(t2),axis=-1)\n",
        "  \n",
        "  for i in range(t1.shape[0]):\n",
        "    sim=tf.matmul(tf.transpose(t1[i]),t2[i])/(tf.norm(t1[i])*tf.norm(t2[i]))\n",
        "    if sim.numpy()>=0.5:\n",
        "      Y[i]=1\n",
        "  \n",
        "  norm_set(True)\n",
        "  return Y"
      ],
      "execution_count": 34,
      "outputs": []
    },
    {
      "cell_type": "code",
      "metadata": {
        "id": "8AGD48EqrXq7",
        "colab_type": "code",
        "colab": {}
      },
      "source": [
        "# Validation Set Accuracy\n",
        "def validation_accuracy(batch_size=200):\n",
        "  Questions1=dataset.iloc[:,3].values\n",
        "  Questions2=dataset.iloc[:,4].values\n",
        "  Duplicate=dataset.iloc[:,5].values\n",
        "\n",
        "  q1=[]\n",
        "  q2=[]\n",
        "  d=[]\n",
        "  count=0\n",
        "  for i in range(len(Duplicate)):\n",
        "    if count==batch_size//2:\n",
        "      break\n",
        "    if Duplicate[i]==0:\n",
        "      q1+=[Questions1[i]]\n",
        "      q2+=[Questions2[i]]\n",
        "      d+=[0]\n",
        "\n",
        "  count=0\n",
        "  for i in range(len(Duplicate)):\n",
        "    if count==batch_size//2:\n",
        "      break\n",
        "    if Duplicate[i]==1:\n",
        "      q1+=[Questions1[i]]\n",
        "      q2+=[Questions2[i]]\n",
        "      d+=[1]\n",
        "\n",
        "  q1=[str(q).lower() for q in q1]\n",
        "  q2=[str(q).lower() for q in q2]\n",
        "\n",
        "  q1=[tokenizer.tokenize(q) for q in q1]\n",
        "  q2=[tokenizer.tokenize(q) for q in q2]\n",
        "\n",
        "  #Padding\n",
        "  for i in range(len(q1)):\n",
        "    if len(q1[i])>=20:\n",
        "      q1[i]=q1[i][:20]\n",
        "    else :\n",
        "      q1[i]+=['<PAD>']*(20-len(q1[i]))\n",
        "\n",
        "  for i in range(len(q2)):\n",
        "    if len(q2[i])>=20:\n",
        "      q2[i]=q2[i][:20]\n",
        "    else :\n",
        "      q2[i]+=['<PAD>']*(20-len(q2[i]))\n",
        "\n",
        "  \n",
        "  Q1=np.zeros((batch_size,20,100))\n",
        "  Q2=np.zeros((batch_size,20,100))\n",
        "  D=np.zeros((batch_size))\n",
        "\n",
        "\n",
        "  for i in range(len(Q1)):\n",
        "    D[i]=d[i]\n",
        "    for j in range(20):\n",
        "      try :\n",
        "        Q1[i,j]=Embeddings[q1[i][j]]\n",
        "      except :\n",
        "        Q1[i,j]=Embeddings['<OOV>']\n",
        "    for j in range(20):\n",
        "      try :\n",
        "        Q2[i,j]=Embeddings[q2[i][j]]\n",
        "      except :\n",
        "        Q2[i,j]=Embeddings['<OOV>']\n",
        "\n",
        "  \n",
        "  Y=predict(Q1,Q2)\n",
        "  count=0\n",
        "  for i in range(len(Y)):\n",
        "    if Y[i]==D[i] :\n",
        "      count+=1\n",
        "\n",
        "  print(\"Val. Accuracy : \"+str(count/len(Y)))"
      ],
      "execution_count": 35,
      "outputs": []
    },
    {
      "cell_type": "code",
      "metadata": {
        "id": "gLhgo6x-CKzt",
        "colab_type": "code",
        "colab": {
          "base_uri": "https://localhost:8080/",
          "height": 34
        },
        "outputId": "fe492f31-d677-4e3e-d2b4-70826ba28f92"
      },
      "source": [
        "validation_accuracy(2000)"
      ],
      "execution_count": 36,
      "outputs": [
        {
          "output_type": "stream",
          "text": [
            "Val. Accuracy : 0.853\n"
          ],
          "name": "stdout"
        }
      ]
    },
    {
      "cell_type": "markdown",
      "metadata": {
        "id": "JV8F-csJZwSU",
        "colab_type": "text"
      },
      "source": [
        "<br><hr><br> **User Generated Test Set**"
      ]
    },
    {
      "cell_type": "code",
      "metadata": {
        "id": "ElT4zUvsCQI_",
        "colab_type": "code",
        "colab": {}
      },
      "source": [
        "# Note : Q1 & Q2 are Strings\n",
        "def test_questions(Q1,Q2):\n",
        "  Q1=Q1.lower()\n",
        "  Q2=Q2.lower()\n",
        "  Q1=tokenizer.tokenize(Q1)\n",
        "  Q2=tokenizer.tokenize(Q2)\n",
        "\n",
        "  q1=np.zeros((1,len(Q1),100))\n",
        "  q2=np.zeros((1,len(Q2),100))\n",
        "\n",
        "  for i in range(len(Q1)):\n",
        "    try :\n",
        "      q1[0,i]=Embeddings[Q1[i]]\n",
        "    except :\n",
        "      q1[0,i]=Embeddings[\"<OOV>\"]\n",
        "    \n",
        "  for i in range(len(Q2)):\n",
        "    try :\n",
        "      q2[0,i]=Embeddings[Q2[i]]\n",
        "    except :\n",
        "      q2[0,i]=Embeddings[\"<OOV>\"]\n",
        "\n",
        "  Y=predict(q1,q2)\n",
        "  return Y\n"
      ],
      "execution_count": 38,
      "outputs": []
    },
    {
      "cell_type": "code",
      "metadata": {
        "id": "HX7YfyfCb-am",
        "colab_type": "code",
        "colab": {
          "base_uri": "https://localhost:8080/",
          "height": 34
        },
        "outputId": "0abfb865-76c7-4eea-bbda-fa5c2d9312d6"
      },
      "source": [
        "Q1=\"how to learn machine learning?\"\n",
        "Q2=\"i want to learn machine learning but how?\"\n",
        "test_questions(Q1,Q2)"
      ],
      "execution_count": 45,
      "outputs": [
        {
          "output_type": "execute_result",
          "data": {
            "text/plain": [
              "array([1.])"
            ]
          },
          "metadata": {
            "tags": []
          },
          "execution_count": 45
        }
      ]
    },
    {
      "cell_type": "code",
      "metadata": {
        "id": "MV3NqaIVcK-4",
        "colab_type": "code",
        "colab": {}
      },
      "source": [
        "with open('/content/drive/My Drive/Datasets/Quora/vocab','wb') as f:\n",
        "    pickle.dump(vocab,f)"
      ],
      "execution_count": 15,
      "outputs": []
    },
    {
      "cell_type": "code",
      "metadata": {
        "id": "Nq2hDk0lJgi_",
        "colab_type": "code",
        "colab": {}
      },
      "source": [
        ""
      ],
      "execution_count": null,
      "outputs": []
    }
  ]
}